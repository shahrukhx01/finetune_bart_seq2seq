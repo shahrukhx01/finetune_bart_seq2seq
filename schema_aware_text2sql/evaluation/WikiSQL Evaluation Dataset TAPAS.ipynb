{
 "cells": [
  {
   "cell_type": "code",
   "execution_count": 1,
   "metadata": {},
   "outputs": [],
   "source": [
    "import pandas as pd\n",
    "import uuid\n",
    "from dataframe_sql import register_temp_table, query\n",
    "import ast\n",
    "import random\n",
    "from tqdm import tqdm"
   ]
  },
  {
   "cell_type": "code",
   "execution_count": 2,
   "metadata": {},
   "outputs": [],
   "source": [
    "test_set = pd.read_json('wikisql_ann_test.json')"
   ]
  },
  {
   "cell_type": "code",
   "execution_count": 3,
   "metadata": {},
   "outputs": [
    {
     "data": {
      "text/html": [
       "<div>\n",
       "<style scoped>\n",
       "    .dataframe tbody tr th:only-of-type {\n",
       "        vertical-align: middle;\n",
       "    }\n",
       "\n",
       "    .dataframe tbody tr th {\n",
       "        vertical-align: top;\n",
       "    }\n",
       "\n",
       "    .dataframe thead th {\n",
       "        text-align: right;\n",
       "    }\n",
       "</style>\n",
       "<table border=\"1\" class=\"dataframe\">\n",
       "  <thead>\n",
       "    <tr style=\"text-align: right;\">\n",
       "      <th></th>\n",
       "      <th>answer</th>\n",
       "      <th>question</th>\n",
       "      <th>id</th>\n",
       "      <th>header</th>\n",
       "      <th>rows</th>\n",
       "      <th>header_types</th>\n",
       "    </tr>\n",
       "  </thead>\n",
       "  <tbody>\n",
       "    <tr>\n",
       "      <th>0</th>\n",
       "      <td>SELECT ` &lt;col2&gt; ` FROM ` table ` WHERE ` &lt;col0...</td>\n",
       "      <td>&lt;col0&gt; Player : text &lt;col1&gt; No. : text &lt;col2&gt; ...</td>\n",
       "      <td>4e84108c351d47b5aedac962af6749cf</td>\n",
       "      <td>['Player', 'No.', 'Nationality', 'Position', '...</td>\n",
       "      <td>[['Aleksandar Radojević', '25', 'Serbia', 'Cen...</td>\n",
       "      <td>['text', 'text', 'text', 'text', 'text', 'text']</td>\n",
       "    </tr>\n",
       "    <tr>\n",
       "      <th>1</th>\n",
       "      <td>SELECT ` &lt;col5&gt; ` FROM ` table ` WHERE ` &lt;col4...</td>\n",
       "      <td>&lt;col0&gt; Player : text &lt;col1&gt; No. : text &lt;col2&gt; ...</td>\n",
       "      <td>f6e1c2213a1d4cebbb1521da219c7aa0</td>\n",
       "      <td>['Player', 'No.', 'Nationality', 'Position', '...</td>\n",
       "      <td>[['Aleksandar Radojević', '25', 'Serbia', 'Cen...</td>\n",
       "      <td>['text', 'text', 'text', 'text', 'text', 'text']</td>\n",
       "    </tr>\n",
       "    <tr>\n",
       "      <th>2</th>\n",
       "      <td>SELECT ` &lt;col5&gt; ` FROM ` table ` WHERE ` &lt;col4...</td>\n",
       "      <td>&lt;col0&gt; Player : text &lt;col1&gt; No. : text &lt;col2&gt; ...</td>\n",
       "      <td>1ce1252d4098425aaa9c38aeb5b79c69</td>\n",
       "      <td>['Player', 'No.', 'Nationality', 'Position', '...</td>\n",
       "      <td>[['Aleksandar Radojević', '25', 'Serbia', 'Cen...</td>\n",
       "      <td>['text', 'text', 'text', 'text', 'text', 'text']</td>\n",
       "    </tr>\n",
       "    <tr>\n",
       "      <th>3</th>\n",
       "      <td>SELECT COUNT ` &lt;col5&gt; ` FROM ` table ` WHERE `...</td>\n",
       "      <td>&lt;col0&gt; Player : text &lt;col1&gt; No. : text &lt;col2&gt; ...</td>\n",
       "      <td>33caff92db0442fa8870dee4ace70c4a</td>\n",
       "      <td>['Player', 'No.', 'Nationality', 'Position', '...</td>\n",
       "      <td>[['Aleksandar Radojević', '25', 'Serbia', 'Cen...</td>\n",
       "      <td>['text', 'text', 'text', 'text', 'text', 'text']</td>\n",
       "    </tr>\n",
       "    <tr>\n",
       "      <th>4</th>\n",
       "      <td>SELECT ` &lt;col2&gt; ` FROM ` table ` WHERE ` &lt;col3...</td>\n",
       "      <td>&lt;col0&gt; No : real &lt;col1&gt; Date : text &lt;col2&gt; Rou...</td>\n",
       "      <td>acaa5428b2d541c7a7842de42e6fc77f</td>\n",
       "      <td>['No', 'Date', 'Round', 'Circuit', 'Pole Posit...</td>\n",
       "      <td>[['1', '24 February', 'Qatar', 'Losail', 'Kevi...</td>\n",
       "      <td>['real', 'text', 'text', 'text', 'text', 'text...</td>\n",
       "    </tr>\n",
       "  </tbody>\n",
       "</table>\n",
       "</div>"
      ],
      "text/plain": [
       "                                              answer  \\\n",
       "0  SELECT ` <col2> ` FROM ` table ` WHERE ` <col0...   \n",
       "1  SELECT ` <col5> ` FROM ` table ` WHERE ` <col4...   \n",
       "2  SELECT ` <col5> ` FROM ` table ` WHERE ` <col4...   \n",
       "3  SELECT COUNT ` <col5> ` FROM ` table ` WHERE `...   \n",
       "4  SELECT ` <col2> ` FROM ` table ` WHERE ` <col3...   \n",
       "\n",
       "                                            question  \\\n",
       "0  <col0> Player : text <col1> No. : text <col2> ...   \n",
       "1  <col0> Player : text <col1> No. : text <col2> ...   \n",
       "2  <col0> Player : text <col1> No. : text <col2> ...   \n",
       "3  <col0> Player : text <col1> No. : text <col2> ...   \n",
       "4  <col0> No : real <col1> Date : text <col2> Rou...   \n",
       "\n",
       "                                 id  \\\n",
       "0  4e84108c351d47b5aedac962af6749cf   \n",
       "1  f6e1c2213a1d4cebbb1521da219c7aa0   \n",
       "2  1ce1252d4098425aaa9c38aeb5b79c69   \n",
       "3  33caff92db0442fa8870dee4ace70c4a   \n",
       "4  acaa5428b2d541c7a7842de42e6fc77f   \n",
       "\n",
       "                                              header  \\\n",
       "0  ['Player', 'No.', 'Nationality', 'Position', '...   \n",
       "1  ['Player', 'No.', 'Nationality', 'Position', '...   \n",
       "2  ['Player', 'No.', 'Nationality', 'Position', '...   \n",
       "3  ['Player', 'No.', 'Nationality', 'Position', '...   \n",
       "4  ['No', 'Date', 'Round', 'Circuit', 'Pole Posit...   \n",
       "\n",
       "                                                rows  \\\n",
       "0  [['Aleksandar Radojević', '25', 'Serbia', 'Cen...   \n",
       "1  [['Aleksandar Radojević', '25', 'Serbia', 'Cen...   \n",
       "2  [['Aleksandar Radojević', '25', 'Serbia', 'Cen...   \n",
       "3  [['Aleksandar Radojević', '25', 'Serbia', 'Cen...   \n",
       "4  [['1', '24 February', 'Qatar', 'Losail', 'Kevi...   \n",
       "\n",
       "                                        header_types  \n",
       "0   ['text', 'text', 'text', 'text', 'text', 'text']  \n",
       "1   ['text', 'text', 'text', 'text', 'text', 'text']  \n",
       "2   ['text', 'text', 'text', 'text', 'text', 'text']  \n",
       "3   ['text', 'text', 'text', 'text', 'text', 'text']  \n",
       "4  ['real', 'text', 'text', 'text', 'text', 'text...  "
      ]
     },
     "execution_count": 3,
     "metadata": {},
     "output_type": "execute_result"
    }
   ],
   "source": [
    "test_set.head()"
   ]
  },
  {
   "cell_type": "code",
   "execution_count": 4,
   "metadata": {},
   "outputs": [],
   "source": [
    "def register_table(query, data, row_id):\n",
    "    tab_id = random.randint(0, 10000000)\n",
    "    query = query.replace('` table `', f\"table_{tab_id}\")\n",
    "    query = query.replace('` ','\\'').replace(' `','\\'')\n",
    "    register_temp_table(data, f\"table_{tab_id}\")\n",
    "    return query"
   ]
  },
  {
   "cell_type": "code",
   "execution_count": 7,
   "metadata": {},
   "outputs": [
    {
     "name": "stderr",
     "output_type": "stream",
     "text": [
      "15878it [39:48,  6.65it/s]\n"
     ]
    }
   ],
   "source": [
    "answers = []\n",
    "for idx, row in tqdm(test_set.iterrows()):\n",
    "    answer = [[]]\n",
    "    try:\n",
    "        sql = row.answer\n",
    "        header = ast.literal_eval(row.header)\n",
    "        header = [col.replace(\" \", \"_\").replace('/','_') for col in header]\n",
    "        rows = ast.literal_eval(row.rows)\n",
    "        table = pd.DataFrame(rows, columns=header)\n",
    "        for ix, column in enumerate(header):\n",
    "            if f\"` <col{ix}> `\" in sql:\n",
    "                if ' ' in column:\n",
    "                    sql = sql.replace(f\"` <col{ix}> `\", f'\\'{column}\\'')\n",
    "                else:\n",
    "                    sql = sql.replace(f\"` <col{ix}> `\", column)\n",
    "        answers.append(query(register_table(query=sql, data=table, row_id=idx)).values)\n",
    "    except:\n",
    "        answers.append(answer)\n",
    "        continue"
   ]
  },
  {
   "cell_type": "code",
   "execution_count": 9,
   "metadata": {},
   "outputs": [],
   "source": [
    "test_set['answer_rows'] = answers"
   ]
  },
  {
   "cell_type": "code",
   "execution_count": 11,
   "metadata": {},
   "outputs": [],
   "source": [
    "test_set.to_csv('wikisql_ann_test_tapas.csv', index=False)"
   ]
  },
  {
   "cell_type": "code",
   "execution_count": null,
   "metadata": {},
   "outputs": [],
   "source": []
  }
 ],
 "metadata": {
  "kernelspec": {
   "display_name": "Python 3",
   "language": "python",
   "name": "python3"
  },
  "language_info": {
   "codemirror_mode": {
    "name": "ipython",
    "version": 3
   },
   "file_extension": ".py",
   "mimetype": "text/x-python",
   "name": "python",
   "nbconvert_exporter": "python",
   "pygments_lexer": "ipython3",
   "version": "3.8.5"
  }
 },
 "nbformat": 4,
 "nbformat_minor": 4
}
